{
 "cells": [
  {
   "cell_type": "code",
   "execution_count": 1,
   "metadata": {},
   "outputs": [],
   "source": [
    "import pandas as pd\n",
    "import numpy as np"
   ]
  },
  {
   "cell_type": "code",
   "execution_count": 2,
   "metadata": {},
   "outputs": [
    {
     "data": {
      "text/plain": [
       "fas_id             51566\n",
       "name               51566\n",
       "address            51566\n",
       "postcode           51566\n",
       "easting            51566\n",
       "northing           51566\n",
       "latitude           51566\n",
       "longitude          51566\n",
       "local_authority    51564\n",
       "dtype: int64"
      ]
     },
     "execution_count": 2,
     "metadata": {},
     "output_type": "execute_result"
    }
   ],
   "source": [
    "df = pd.read_csv('open_pubs.csv.gz')\n",
    "df.count()"
   ]
  },
  {
   "cell_type": "code",
   "execution_count": 3,
   "metadata": {},
   "outputs": [],
   "source": [
    "df['district'],df['sector'] = df['postcode'].str.split(' ').str"
   ]
  },
  {
   "cell_type": "code",
   "execution_count": 4,
   "metadata": {},
   "outputs": [
    {
     "data": {
      "text/html": [
       "<div>\n",
       "<table border=\"1\" class=\"dataframe\">\n",
       "  <thead>\n",
       "    <tr style=\"text-align: right;\">\n",
       "      <th></th>\n",
       "      <th>fas_id</th>\n",
       "      <th>name</th>\n",
       "      <th>address</th>\n",
       "      <th>postcode</th>\n",
       "      <th>easting</th>\n",
       "      <th>northing</th>\n",
       "      <th>latitude</th>\n",
       "      <th>longitude</th>\n",
       "      <th>local_authority</th>\n",
       "      <th>district</th>\n",
       "      <th>sector</th>\n",
       "    </tr>\n",
       "  </thead>\n",
       "  <tbody>\n",
       "    <tr>\n",
       "      <th>12066</th>\n",
       "      <td>124266</td>\n",
       "      <td>The Cambria Bar &amp; Brasserie</td>\n",
       "      <td>40 Kemerton Road, London</td>\n",
       "      <td>SE5 9AR</td>\n",
       "      <td>532292</td>\n",
       "      <td>175699.0</td>\n",
       "      <td>51.464809</td>\n",
       "      <td>-0.096958</td>\n",
       "      <td>Lambeth</td>\n",
       "      <td>SE5</td>\n",
       "      <td>9AR</td>\n",
       "    </tr>\n",
       "    <tr>\n",
       "      <th>12084</th>\n",
       "      <td>124336</td>\n",
       "      <td>The Kennington</td>\n",
       "      <td>60 Camberwell New Road, London</td>\n",
       "      <td>SE5 0RS</td>\n",
       "      <td>531624</td>\n",
       "      <td>177275.0</td>\n",
       "      <td>51.479119</td>\n",
       "      <td>-0.105983</td>\n",
       "      <td>Lambeth</td>\n",
       "      <td>SE5</td>\n",
       "      <td>0RS</td>\n",
       "    </tr>\n",
       "    <tr>\n",
       "      <th>12118</th>\n",
       "      <td>124416</td>\n",
       "      <td>The Sun Of Camberwell</td>\n",
       "      <td>61 - 63 Coldharbour Lane, London</td>\n",
       "      <td>SE5 9NS</td>\n",
       "      <td>532361</td>\n",
       "      <td>176242.0</td>\n",
       "      <td>51.469682</td>\n",
       "      <td>-0.095762</td>\n",
       "      <td>Lambeth</td>\n",
       "      <td>SE5</td>\n",
       "      <td>9NS</td>\n",
       "    </tr>\n",
       "    <tr>\n",
       "      <th>12587</th>\n",
       "      <td>133358</td>\n",
       "      <td>Amaryllis</td>\n",
       "      <td>66, Coldharbour Lane, London</td>\n",
       "      <td>SE5 9PU</td>\n",
       "      <td>532275</td>\n",
       "      <td>176249.0</td>\n",
       "      <td>51.469756</td>\n",
       "      <td>-0.096997</td>\n",
       "      <td>Lambeth</td>\n",
       "      <td>SE5</td>\n",
       "      <td>9PU</td>\n",
       "    </tr>\n",
       "    <tr>\n",
       "      <th>12601</th>\n",
       "      <td>133614</td>\n",
       "      <td>British queen</td>\n",
       "      <td>34, Picton Street, London</td>\n",
       "      <td>SE5 7QH</td>\n",
       "      <td>532819</td>\n",
       "      <td>177190.0</td>\n",
       "      <td>51.478076</td>\n",
       "      <td>-0.088817</td>\n",
       "      <td>Southwark</td>\n",
       "      <td>SE5</td>\n",
       "      <td>7QH</td>\n",
       "    </tr>\n",
       "  </tbody>\n",
       "</table>\n",
       "</div>"
      ],
      "text/plain": [
       "       fas_id                         name                           address  \\\n",
       "12066  124266  The Cambria Bar & Brasserie          40 Kemerton Road, London   \n",
       "12084  124336               The Kennington    60 Camberwell New Road, London   \n",
       "12118  124416        The Sun Of Camberwell  61 - 63 Coldharbour Lane, London   \n",
       "12587  133358                    Amaryllis      66, Coldharbour Lane, London   \n",
       "12601  133614                British queen         34, Picton Street, London   \n",
       "\n",
       "      postcode  easting  northing   latitude  longitude local_authority  \\\n",
       "12066  SE5 9AR   532292  175699.0  51.464809  -0.096958         Lambeth   \n",
       "12084  SE5 0RS   531624  177275.0  51.479119  -0.105983         Lambeth   \n",
       "12118  SE5 9NS   532361  176242.0  51.469682  -0.095762         Lambeth   \n",
       "12587  SE5 9PU   532275  176249.0  51.469756  -0.096997         Lambeth   \n",
       "12601  SE5 7QH   532819  177190.0  51.478076  -0.088817       Southwark   \n",
       "\n",
       "      district sector  \n",
       "12066      SE5    9AR  \n",
       "12084      SE5    0RS  \n",
       "12118      SE5    9NS  \n",
       "12587      SE5    9PU  \n",
       "12601      SE5    7QH  "
      ]
     },
     "execution_count": 4,
     "metadata": {},
     "output_type": "execute_result"
    }
   ],
   "source": [
    "df_2 = df.query('district==\"SE5\"')\n",
    "df_2.head()"
   ]
  },
  {
   "cell_type": "code",
   "execution_count": 5,
   "metadata": {},
   "outputs": [
    {
     "data": {
      "text/html": [
       "<div>\n",
       "<table border=\"1\" class=\"dataframe\">\n",
       "  <thead>\n",
       "    <tr style=\"text-align: right;\">\n",
       "      <th></th>\n",
       "      <th>fas_id</th>\n",
       "      <th>name</th>\n",
       "      <th>address</th>\n",
       "      <th>postcode</th>\n",
       "      <th>easting</th>\n",
       "      <th>northing</th>\n",
       "      <th>latitude</th>\n",
       "      <th>longitude</th>\n",
       "      <th>local_authority</th>\n",
       "      <th>district</th>\n",
       "      <th>sector</th>\n",
       "    </tr>\n",
       "  </thead>\n",
       "  <tbody>\n",
       "    <tr>\n",
       "      <th>12066</th>\n",
       "      <td>124266</td>\n",
       "      <td>The Cambria Bar &amp; Brasserie</td>\n",
       "      <td>40 Kemerton Road, London</td>\n",
       "      <td>SE5 9AR</td>\n",
       "      <td>532292</td>\n",
       "      <td>175699.0</td>\n",
       "      <td>51.464809</td>\n",
       "      <td>-0.096958</td>\n",
       "      <td>Lambeth</td>\n",
       "      <td>SE5</td>\n",
       "      <td>9AR</td>\n",
       "    </tr>\n",
       "    <tr>\n",
       "      <th>12084</th>\n",
       "      <td>124336</td>\n",
       "      <td>The Kennington</td>\n",
       "      <td>60 Camberwell New Road, London</td>\n",
       "      <td>SE5 0RS</td>\n",
       "      <td>531624</td>\n",
       "      <td>177275.0</td>\n",
       "      <td>51.479119</td>\n",
       "      <td>-0.105983</td>\n",
       "      <td>Lambeth</td>\n",
       "      <td>SE5</td>\n",
       "      <td>0RS</td>\n",
       "    </tr>\n",
       "    <tr>\n",
       "      <th>12118</th>\n",
       "      <td>124416</td>\n",
       "      <td>The Sun Of Camberwell</td>\n",
       "      <td>61 - 63 Coldharbour Lane, London</td>\n",
       "      <td>SE5 9NS</td>\n",
       "      <td>532361</td>\n",
       "      <td>176242.0</td>\n",
       "      <td>51.469682</td>\n",
       "      <td>-0.095762</td>\n",
       "      <td>Lambeth</td>\n",
       "      <td>SE5</td>\n",
       "      <td>9NS</td>\n",
       "    </tr>\n",
       "    <tr>\n",
       "      <th>12587</th>\n",
       "      <td>133358</td>\n",
       "      <td>Amaryllis</td>\n",
       "      <td>66, Coldharbour Lane, London</td>\n",
       "      <td>SE5 9PU</td>\n",
       "      <td>532275</td>\n",
       "      <td>176249.0</td>\n",
       "      <td>51.469756</td>\n",
       "      <td>-0.096997</td>\n",
       "      <td>Lambeth</td>\n",
       "      <td>SE5</td>\n",
       "      <td>9PU</td>\n",
       "    </tr>\n",
       "    <tr>\n",
       "      <th>12601</th>\n",
       "      <td>133614</td>\n",
       "      <td>British queen</td>\n",
       "      <td>34, Picton Street, London</td>\n",
       "      <td>SE5 7QH</td>\n",
       "      <td>532819</td>\n",
       "      <td>177190.0</td>\n",
       "      <td>51.478076</td>\n",
       "      <td>-0.088817</td>\n",
       "      <td>Southwark</td>\n",
       "      <td>SE5</td>\n",
       "      <td>7QH</td>\n",
       "    </tr>\n",
       "  </tbody>\n",
       "</table>\n",
       "</div>"
      ],
      "text/plain": [
       "       fas_id                         name                           address  \\\n",
       "12066  124266  The Cambria Bar & Brasserie          40 Kemerton Road, London   \n",
       "12084  124336               The Kennington    60 Camberwell New Road, London   \n",
       "12118  124416        The Sun Of Camberwell  61 - 63 Coldharbour Lane, London   \n",
       "12587  133358                    Amaryllis      66, Coldharbour Lane, London   \n",
       "12601  133614                British queen         34, Picton Street, London   \n",
       "\n",
       "      postcode  easting  northing   latitude  longitude local_authority  \\\n",
       "12066  SE5 9AR   532292  175699.0  51.464809  -0.096958         Lambeth   \n",
       "12084  SE5 0RS   531624  177275.0  51.479119  -0.105983         Lambeth   \n",
       "12118  SE5 9NS   532361  176242.0  51.469682  -0.095762         Lambeth   \n",
       "12587  SE5 9PU   532275  176249.0  51.469756  -0.096997         Lambeth   \n",
       "12601  SE5 7QH   532819  177190.0  51.478076  -0.088817       Southwark   \n",
       "\n",
       "      district sector  \n",
       "12066      SE5    9AR  \n",
       "12084      SE5    0RS  \n",
       "12118      SE5    9NS  \n",
       "12587      SE5    9PU  \n",
       "12601      SE5    7QH  "
      ]
     },
     "execution_count": 5,
     "metadata": {},
     "output_type": "execute_result"
    }
   ],
   "source": [
    "df_3=df_2.copy()\n",
    "df_3[['latitude','longitude']]=df_2[['latitude','longitude']].apply(pd.to_numeric, errors='coerce').dropna()\n",
    "df_3.head()"
   ]
  },
  {
   "cell_type": "code",
   "execution_count": 6,
   "metadata": {},
   "outputs": [
    {
     "data": {
      "text/html": [
       "<div>\n",
       "<table border=\"1\" class=\"dataframe\">\n",
       "  <thead>\n",
       "    <tr style=\"text-align: right;\">\n",
       "      <th></th>\n",
       "      <th>index</th>\n",
       "      <th>fas_id</th>\n",
       "      <th>name</th>\n",
       "      <th>address</th>\n",
       "      <th>postcode</th>\n",
       "      <th>easting</th>\n",
       "      <th>northing</th>\n",
       "      <th>latitude</th>\n",
       "      <th>longitude</th>\n",
       "      <th>local_authority</th>\n",
       "      <th>district</th>\n",
       "      <th>sector</th>\n",
       "    </tr>\n",
       "  </thead>\n",
       "  <tbody>\n",
       "    <tr>\n",
       "      <th>0</th>\n",
       "      <td>12066</td>\n",
       "      <td>124266</td>\n",
       "      <td>The Cambria Bar &amp; Brasserie</td>\n",
       "      <td>40 Kemerton Road, London</td>\n",
       "      <td>SE5 9AR</td>\n",
       "      <td>532292</td>\n",
       "      <td>175699.0</td>\n",
       "      <td>51.464809</td>\n",
       "      <td>-0.096958</td>\n",
       "      <td>Lambeth</td>\n",
       "      <td>SE5</td>\n",
       "      <td>9AR</td>\n",
       "    </tr>\n",
       "    <tr>\n",
       "      <th>1</th>\n",
       "      <td>12653</td>\n",
       "      <td>135094</td>\n",
       "      <td>Old dispensary</td>\n",
       "      <td>325, Camberwell New Road, London</td>\n",
       "      <td>SE5 0TF</td>\n",
       "      <td>532319</td>\n",
       "      <td>176888.0</td>\n",
       "      <td>51.475479</td>\n",
       "      <td>-0.096125</td>\n",
       "      <td>Southwark</td>\n",
       "      <td>SE5</td>\n",
       "      <td>0TF</td>\n",
       "    </tr>\n",
       "    <tr>\n",
       "      <th>2</th>\n",
       "      <td>12636</td>\n",
       "      <td>134393</td>\n",
       "      <td>Hermits cave</td>\n",
       "      <td>28, Camberwell Church Street, London</td>\n",
       "      <td>SE5 8QU</td>\n",
       "      <td>532655</td>\n",
       "      <td>176711.0</td>\n",
       "      <td>51.473810</td>\n",
       "      <td>-0.091357</td>\n",
       "      <td>Southwark</td>\n",
       "      <td>SE5</td>\n",
       "      <td>8QU</td>\n",
       "    </tr>\n",
       "    <tr>\n",
       "      <th>3</th>\n",
       "      <td>12084</td>\n",
       "      <td>124336</td>\n",
       "      <td>The Kennington</td>\n",
       "      <td>60 Camberwell New Road, London</td>\n",
       "      <td>SE5 0RS</td>\n",
       "      <td>531624</td>\n",
       "      <td>177275.0</td>\n",
       "      <td>51.479119</td>\n",
       "      <td>-0.105983</td>\n",
       "      <td>Lambeth</td>\n",
       "      <td>SE5</td>\n",
       "      <td>0RS</td>\n",
       "    </tr>\n",
       "    <tr>\n",
       "      <th>4</th>\n",
       "      <td>12687</td>\n",
       "      <td>135575</td>\n",
       "      <td>St georges tavern</td>\n",
       "      <td>14, Coleman Road, London</td>\n",
       "      <td>SE5 7TG</td>\n",
       "      <td>533187</td>\n",
       "      <td>177341.0</td>\n",
       "      <td>51.479346</td>\n",
       "      <td>-0.083464</td>\n",
       "      <td>Southwark</td>\n",
       "      <td>SE5</td>\n",
       "      <td>7TG</td>\n",
       "    </tr>\n",
       "    <tr>\n",
       "      <th>5</th>\n",
       "      <td>12612</td>\n",
       "      <td>133843</td>\n",
       "      <td>Clarendon arms</td>\n",
       "      <td>225, Camberwell New Road, London</td>\n",
       "      <td>SE5 0TH</td>\n",
       "      <td>532003</td>\n",
       "      <td>177089.0</td>\n",
       "      <td>51.477359</td>\n",
       "      <td>-0.100597</td>\n",
       "      <td>Southwark</td>\n",
       "      <td>SE5</td>\n",
       "      <td>0TH</td>\n",
       "    </tr>\n",
       "    <tr>\n",
       "      <th>6</th>\n",
       "      <td>12760</td>\n",
       "      <td>135954</td>\n",
       "      <td>The planet nollywood</td>\n",
       "      <td>Father Redcap, 319, Camberwell Road, London</td>\n",
       "      <td>SE5 0HQ</td>\n",
       "      <td>532498</td>\n",
       "      <td>176944.0</td>\n",
       "      <td>51.475940</td>\n",
       "      <td>-0.093528</td>\n",
       "      <td>Southwark</td>\n",
       "      <td>SE5</td>\n",
       "      <td>0HQ</td>\n",
       "    </tr>\n",
       "    <tr>\n",
       "      <th>7</th>\n",
       "      <td>12642</td>\n",
       "      <td>134552</td>\n",
       "      <td>Joiners arms</td>\n",
       "      <td>35, Denmark Hill, London</td>\n",
       "      <td>SE5 8RS</td>\n",
       "      <td>532565</td>\n",
       "      <td>176474.0</td>\n",
       "      <td>51.471710</td>\n",
       "      <td>-0.092740</td>\n",
       "      <td>Southwark</td>\n",
       "      <td>SE5</td>\n",
       "      <td>8RS</td>\n",
       "    </tr>\n",
       "  </tbody>\n",
       "</table>\n",
       "</div>"
      ],
      "text/plain": [
       "   index  fas_id                         name  \\\n",
       "0  12066  124266  The Cambria Bar & Brasserie   \n",
       "1  12653  135094               Old dispensary   \n",
       "2  12636  134393                 Hermits cave   \n",
       "3  12084  124336               The Kennington   \n",
       "4  12687  135575            St georges tavern   \n",
       "5  12612  133843               Clarendon arms   \n",
       "6  12760  135954         The planet nollywood   \n",
       "7  12642  134552                 Joiners arms   \n",
       "\n",
       "                                       address postcode  easting  northing  \\\n",
       "0                     40 Kemerton Road, London  SE5 9AR   532292  175699.0   \n",
       "1             325, Camberwell New Road, London  SE5 0TF   532319  176888.0   \n",
       "2         28, Camberwell Church Street, London  SE5 8QU   532655  176711.0   \n",
       "3               60 Camberwell New Road, London  SE5 0RS   531624  177275.0   \n",
       "4                     14, Coleman Road, London  SE5 7TG   533187  177341.0   \n",
       "5             225, Camberwell New Road, London  SE5 0TH   532003  177089.0   \n",
       "6  Father Redcap, 319, Camberwell Road, London  SE5 0HQ   532498  176944.0   \n",
       "7                     35, Denmark Hill, London  SE5 8RS   532565  176474.0   \n",
       "\n",
       "    latitude  longitude local_authority district sector  \n",
       "0  51.464809  -0.096958         Lambeth      SE5    9AR  \n",
       "1  51.475479  -0.096125       Southwark      SE5    0TF  \n",
       "2  51.473810  -0.091357       Southwark      SE5    8QU  \n",
       "3  51.479119  -0.105983         Lambeth      SE5    0RS  \n",
       "4  51.479346  -0.083464       Southwark      SE5    7TG  \n",
       "5  51.477359  -0.100597       Southwark      SE5    0TH  \n",
       "6  51.475940  -0.093528       Southwark      SE5    0HQ  \n",
       "7  51.471710  -0.092740       Southwark      SE5    8RS  "
      ]
     },
     "execution_count": 6,
     "metadata": {},
     "output_type": "execute_result"
    }
   ],
   "source": [
    "df_4=df_3.sample(n=10,random_state=42).reset_index()\n",
    "df_4.head(8)"
   ]
  },
  {
   "cell_type": "code",
   "execution_count": 7,
   "metadata": {},
   "outputs": [
    {
     "data": {
      "text/plain": [
       "array([[ 51.464809,  -0.096958],\n",
       "       [ 51.475479,  -0.096125],\n",
       "       [ 51.47381 ,  -0.091357],\n",
       "       [ 51.479119,  -0.105983],\n",
       "       [ 51.479346,  -0.083464],\n",
       "       [ 51.477359,  -0.100597],\n",
       "       [ 51.47594 ,  -0.093528],\n",
       "       [ 51.47171 ,  -0.09274 ],\n",
       "       [ 51.469756,  -0.096997],\n",
       "       [ 51.478076,  -0.088817]])"
      ]
     },
     "execution_count": 7,
     "metadata": {},
     "output_type": "execute_result"
    }
   ],
   "source": [
    "sample_locations = df_4[['latitude','longitude']].as_matrix()\n",
    "sample_locations"
   ]
  },
  {
   "cell_type": "code",
   "execution_count": 8,
   "metadata": {},
   "outputs": [],
   "source": [
    "#Example 2-opt algorithm found here:\n",
    "#https://stackoverflow.com/a/44080908/4537686\n",
    "\n",
    "path_distance_lambda = lambda r,c: np.sum([np.linalg.norm(c[r[p]]-c[r[p-1]]) for p in range(len(r))])\n",
    "#Repurose lamba function in function for easier debugging.\n",
    "def path_distance(route,cities):\n",
    "    route_path_lengths=[]\n",
    "    for p in route:\n",
    "        route_path_lengths.append(np.linalg.norm(cities[route[p]]-cities[route[p-1]]))\n",
    "    return np.sum(route_path_lengths)\n",
    "\n",
    "# Reverse the order of all elements from element i to element k in array r.\n",
    "two_opt_swap_lambda = lambda r,i,k: np.concatenate((r[0:i],r[k:-len(r)+i-1:-1],r[k+1:len(r)]))\n",
    "\n",
    "def two_opt(cities,improvement_threshold): # 2-opt Algorithm adapted from https://en.wikipedia.org/wiki/2-opt\n",
    "    route = np.arange(cities.shape[0]) # Make an array of row numbers corresponding to cities.\n",
    "    improvement_factor = 1 # Initialize the improvement factor.\n",
    "    best_distance = path_distance(route,cities) # Calculate the distance of the initial path.\n",
    "    while improvement_factor > improvement_threshold: # If the route is still improving, keep going!\n",
    "        distance_to_beat = best_distance # Record the distance at the beginning of the loop.\n",
    "        for swap_first in range(1,len(route)-2): # From each city except the first and last,\n",
    "            for swap_last in range(swap_first+1,len(route)): # to each of the cities following,\n",
    "                new_route = two_opt_swap_lambda(route,swap_first,swap_last) # try reversing the order of these cities\n",
    "                new_distance = path_distance(new_route,cities) # and check the total distance with this modification.\n",
    "                if new_distance < best_distance: # If the path distance is an improvement,\n",
    "                    route = new_route # make this the accepted best route\n",
    "                    best_distance = new_distance # and update the distance corresponding to this route.\n",
    "        improvement_factor = 1 - best_distance/distance_to_beat # Calculate how much the route has improved.\n",
    "    return route # When the route is no longer improving substantially, stop searching and return the route."
   ]
  },
  {
   "cell_type": "code",
   "execution_count": 9,
   "metadata": {},
   "outputs": [],
   "source": [
    "route = two_opt(sample_locations,0.001)"
   ]
  },
  {
   "cell_type": "code",
   "execution_count": 10,
   "metadata": {},
   "outputs": [],
   "source": [
    "import matplotlib.pyplot as plt\n",
    "# Reorder the cities matrix by route order in a new matrix for plotting.\n",
    "new_location_order = np.concatenate((np.array([sample_locations[route[i]] for i in range(len(route))]),np.array([sample_locations[0]])))"
   ]
  },
  {
   "cell_type": "code",
   "execution_count": 11,
   "metadata": {},
   "outputs": [
    {
     "data": {
      "text/html": [
       "<div style=\"width:100%;\"><div style=\"position:relative;width:100%;height:0;padding-bottom:60%;\"><iframe src=\"data:text/html;charset=utf-8;base64,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\" style=\"position:absolute;width:100%;height:100%;left:0;top:0;border:none !important;\" allowfullscreen webkitallowfullscreen mozallowfullscreen></iframe></div></div>"
      ],
      "text/plain": [
       "<folium.folium.Map at 0x7fdb52971470>"
      ]
     },
     "execution_count": 11,
     "metadata": {},
     "output_type": "execute_result"
    }
   ],
   "source": [
    "import folium\n",
    "\n",
    "lat_max = df_4['latitude'].max()\n",
    "lat_min = df_4['latitude'].min()\n",
    "lon_max = df_4['longitude'].max()\n",
    "lon_min = df_4['longitude'].min()\n",
    "\n",
    "m = folium.Map()\n",
    "m.fit_bounds([[lat_max, lon_max], [lat_min, lon_min]])\n",
    "\n",
    "points_arr=new_location_order.tolist()\n",
    "\n",
    "def plotDot(point):\n",
    "    '''input: series that contains a numeric named latitude and a numeric named longitude\n",
    "    this function creates a CircleMarker and adds it to your this_map'''\n",
    "    folium.Marker(location=[point[0], point[1]]).add_to(m)\n",
    "    \n",
    "for point in points_arr:\n",
    "    plotDot(point)\n",
    "\n",
    "folium.PolyLine(points_arr).add_to(m)\n",
    "m"
   ]
  },
  {
   "cell_type": "code",
   "execution_count": null,
   "metadata": {},
   "outputs": [],
   "source": []
  },
  {
   "cell_type": "code",
   "execution_count": null,
   "metadata": {},
   "outputs": [],
   "source": []
  },
  {
   "cell_type": "code",
   "execution_count": null,
   "metadata": {},
   "outputs": [],
   "source": []
  },
  {
   "cell_type": "code",
   "execution_count": 82,
   "metadata": {},
   "outputs": [],
   "source": [
    "from scipy.spatial.distance import squareform\n",
    "from scipy.spatial.distance import pdist\n",
    "\n",
    "two_dimentional_location_array = df_4[['latitude','longitude']].values\n",
    "sf = squareform(pdist(two_dimentional_location_array))"
   ]
  },
  {
   "cell_type": "code",
   "execution_count": 83,
   "metadata": {},
   "outputs": [],
   "source": [
    "df_5=pd.DataFrame(sf, columns=df_4.fas_id.unique(), index=df_4.fas_id.unique())"
   ]
  },
  {
   "cell_type": "code",
   "execution_count": 84,
   "metadata": {},
   "outputs": [
    {
     "data": {
      "text/plain": [
       "[345564, 342250, 342143, 345289, 342150, 345524, 345411, 343739]"
      ]
     },
     "execution_count": 84,
     "metadata": {},
     "output_type": "execute_result"
    }
   ],
   "source": [
    "list(df_5.columns.values)"
   ]
  },
  {
   "cell_type": "code",
   "execution_count": 5,
   "metadata": {},
   "outputs": [],
   "source": []
  },
  {
   "cell_type": "code",
   "execution_count": 6,
   "metadata": {},
   "outputs": [],
   "source": []
  },
  {
   "cell_type": "code",
   "execution_count": 7,
   "metadata": {},
   "outputs": [
    {
     "data": {
      "text/plain": [
       "<folium.features.PolyLine at 0x7fbaa3b06ef0>"
      ]
     },
     "execution_count": 7,
     "metadata": {},
     "output_type": "execute_result"
    }
   ],
   "source": []
  },
  {
   "cell_type": "code",
   "execution_count": null,
   "metadata": {},
   "outputs": [],
   "source": []
  }
 ],
 "metadata": {
  "kernelspec": {
   "display_name": "Python 3",
   "language": "python",
   "name": "python3"
  },
  "language_info": {
   "codemirror_mode": {
    "name": "ipython",
    "version": 3
   },
   "file_extension": ".py",
   "mimetype": "text/x-python",
   "name": "python",
   "nbconvert_exporter": "python",
   "pygments_lexer": "ipython3",
   "version": "3.6.3"
  }
 },
 "nbformat": 4,
 "nbformat_minor": 2
}
